{
 "cells": [
  {
   "cell_type": "code",
   "execution_count": 4,
   "metadata": {},
   "outputs": [],
   "source": [
    "# 라이브러리 임포트\n",
    "import matplotlib\n",
    "import pandas as pd\n",
    "import matplotlib.pyplot as plt   # cmd : pip install matplotlib\n",
    "import numpy as np"
   ]
  },
  {
   "cell_type": "code",
   "execution_count": 6,
   "metadata": {},
   "outputs": [],
   "source": [
    "# jupyter notebook 명령어\n",
    "# plt.show() 없이 시각화 이미지를 셀 아래쪽에 표기함\n",
    "%matplotlib inline"
   ]
  },
  {
   "cell_type": "code",
   "execution_count": 9,
   "metadata": {},
   "outputs": [
    {
     "data": {
      "image/png": "[encoded data removed]",
      "text/plain": [
       "<Figure size 432x288 with 1 Axes>"
      ]
     },
     "metadata": {
      "needs_background": "light"
     },
     "output_type": "display_data"
    }
   ],
   "source": [
    "# 정규 분포 확률 밀도에서 100개의 표본 추출\n",
    "# random.normal()\n",
    "np.random.seed(123)\n",
    "x = np.random.normal(0, 1, 100)\n",
    "y = np.random.normal(0, 1, 100)\n",
    "plt.scatter(x, y)\n",
    "plt.show()"
   ]
  },
  {
   "cell_type": "code",
   "execution_count": 10,
   "metadata": {},
   "outputs": [],
   "source": [
    "# 딕셔너리 타입으로 데이터 전달\n",
    "# 샘플 의미 : 데이터 마다 색상, 마커크기가 다르게 표현되기 위하여 생성\n",
    "# x데이터(a) : 0이상 50미만의 범위에서 +1씩 증가하는 정수\n",
    "# 마커색상 데이터(b) : 0이상 50미만의 정수중 50개의 난수 추출\n",
    "# 마커크기 데이터(s) : 정규분포에서 추출한 50개의 난수(c) -> 발생한 난수의 절대값을\n",
    "# 취한 다음 거기에 100배\n",
    "# y 데이터(d) : x데이터 +10 * 정규분포에서 추출한 50개의 난수\n",
    "data = {'a':np.arange(0, 50),\n",
    "       'b':np.random.randint(0, 50, 50),\n",
    "       'c':np.random.randn(50)}\n",
    "data['d'] = data['a'] + 10*data['c']\n",
    "data['s'] = np.abs(data['c'])*100"
   ]
  },
  {
   "cell_type": "code",
   "execution_count": 11,
   "metadata": {},
   "outputs": [
    {
     "data": {
      "text/plain": [
       "{'a': array([ 0,  1,  2,  3,  4,  5,  6,  7,  8,  9, 10, 11, 12, 13, 14, 15, 16,\n",
       "        17, 18, 19, 20, 21, 22, 23, 24, 25, 26, 27, 28, 29, 30, 31, 32, 33,\n",
       "        34, 35, 36, 37, 38, 39, 40, 41, 42, 43, 44, 45, 46, 47, 48, 49]),\n",
       " 'b': array([37, 30, 19,  6, 36, 26,  7, 13, 49, 14,  6, 32, 33,  3,  0, 40, 13,\n",
       "        30, 37, 49, 19,  2, 34, 45, 32, 14,  2, 27, 26, 46, 46, 32, 18, 32,\n",
       "        30,  3, 31, 41, 27, 15, 48, 42, 27, 14, 47, 21, 30, 20, 31,  6]),\n",
       " 'c': array([-1.06697768e+00,  1.85434502e-01, -1.79840146e+00,  7.61549301e-01,\n",
       "         4.43400497e-02,  2.83580785e-01, -1.28382074e+00,  1.68250184e+00,\n",
       "        -5.98918774e-01,  1.48271932e+00, -9.73747447e-02, -1.27205836e+00,\n",
       "        -2.14583850e+00,  1.64366885e+00, -8.18807675e-01, -1.56373377e+00,\n",
       "         4.48068374e-01,  9.98950824e-01, -3.12709125e-02,  6.17126593e-01,\n",
       "         2.56166709e-01,  3.32160601e-01,  8.83159851e-01, -7.89621160e-01,\n",
       "        -4.85899587e-01,  1.06673022e+00, -3.76678757e-01,  1.85882079e+00,\n",
       "        -5.96751207e-01,  1.90352074e-01,  1.96817910e-01, -2.05499678e-01,\n",
       "         3.10500011e-01, -1.75359391e+00,  1.26132137e-01, -7.97641520e-01,\n",
       "        -1.41367860e+00, -1.06939893e+00, -1.27516664e+00,  1.34921979e+00,\n",
       "         8.50991863e-01,  1.42796743e+00, -2.07187742e-01, -1.24369516e-01,\n",
       "        -8.15946254e-02, -1.39368208e-03, -3.16300973e-01,  7.66512823e-01,\n",
       "        -1.45809015e+00,  1.12671058e+00]),\n",
       " 'd': array([-10.66977684,   2.85434502, -15.98401457,  10.61549301,\n",
       "          4.4434005 ,   7.83580785,  -6.8382074 ,  23.8250184 ,\n",
       "          2.01081226,  23.82719315,   9.02625255,  -1.72058361,\n",
       "         -9.45838502,  29.43668847,   5.81192325,  -0.63733766,\n",
       "         20.48068374,  26.98950824,  17.68729087,  25.17126593,\n",
       "         22.56166709,  24.32160601,  30.83159851,  15.1037884 ,\n",
       "         19.14100413,  35.6673022 ,  22.23321243,  45.58820795,\n",
       "         22.03248793,  30.90352074,  31.9681791 ,  28.94500322,\n",
       "         35.10500011,  15.46406089,  35.26132137,  27.0235848 ,\n",
       "         21.86321402,  26.30601072,  25.24833356,  52.49219794,\n",
       "         48.50991863,  55.27967435,  39.92812258,  41.75630484,\n",
       "         43.18405375,  44.98606318,  42.83699027,  54.66512823,\n",
       "         33.41909845,  60.26710577]),\n",
       " 's': array([1.06697768e+02, 1.85434502e+01, 1.79840146e+02, 7.61549301e+01,\n",
       "        4.43400497e+00, 2.83580785e+01, 1.28382074e+02, 1.68250184e+02,\n",
       "        5.98918774e+01, 1.48271932e+02, 9.73747447e+00, 1.27205836e+02,\n",
       "        2.14583850e+02, 1.64366885e+02, 8.18807675e+01, 1.56373377e+02,\n",
       "        4.48068374e+01, 9.98950824e+01, 3.12709125e+00, 6.17126593e+01,\n",
       "        2.56166709e+01, 3.32160601e+01, 8.83159851e+01, 7.89621160e+01,\n",
       "        4.85899587e+01, 1.06673022e+02, 3.76678757e+01, 1.85882079e+02,\n",
       "        5.96751207e+01, 1.90352074e+01, 1.96817910e+01, 2.05499678e+01,\n",
       "        3.10500011e+01, 1.75359391e+02, 1.26132137e+01, 7.97641520e+01,\n",
       "        1.41367860e+02, 1.06939893e+02, 1.27516664e+02, 1.34921979e+02,\n",
       "        8.50991863e+01, 1.42796743e+02, 2.07187742e+01, 1.24369516e+01,\n",
       "        8.15946254e+00, 1.39368208e-01, 3.16300973e+01, 7.66512823e+01,\n",
       "        1.45809015e+02, 1.12671058e+02])}"
      ]
     },
     "execution_count": 11,
     "metadata": {},
     "output_type": "execute_result"
    }
   ],
   "source": [
    "data"
   ]
  },
  {
   "cell_type": "code",
   "execution_count": 12,
   "metadata": {},
   "outputs": [
    {
     "data": {
      "text/plain": [
       "array([ 0,  1,  2,  3,  4,  5,  6,  7,  8,  9, 10, 11, 12, 13, 14, 15, 16,\n",
       "       17, 18, 19, 20, 21, 22, 23, 24, 25, 26, 27, 28, 29, 30, 31, 32, 33,\n",
       "       34, 35, 36, 37, 38, 39, 40, 41, 42, 43, 44, 45, 46, 47, 48, 49])"
      ]
     },
     "execution_count": 12,
     "metadata": {},
     "output_type": "execute_result"
    }
   ],
   "source": [
    "# 데이터 확인 : x축에 해당하는 데이터\n",
    "data['a']"
   ]
  },
  {
   "cell_type": "code",
   "execution_count": 13,
   "metadata": {},
   "outputs": [
    {
     "data": {
      "text/plain": [
       "array([-10.66977684,   2.85434502, -15.98401457,  10.61549301,\n",
       "         4.4434005 ,   7.83580785,  -6.8382074 ,  23.8250184 ,\n",
       "         2.01081226,  23.82719315,   9.02625255,  -1.72058361,\n",
       "        -9.45838502,  29.43668847,   5.81192325,  -0.63733766,\n",
       "        20.48068374,  26.98950824,  17.68729087,  25.17126593,\n",
       "        22.56166709,  24.32160601,  30.83159851,  15.1037884 ,\n",
       "        19.14100413,  35.6673022 ,  22.23321243,  45.58820795,\n",
       "        22.03248793,  30.90352074,  31.9681791 ,  28.94500322,\n",
       "        35.10500011,  15.46406089,  35.26132137,  27.0235848 ,\n",
       "        21.86321402,  26.30601072,  25.24833356,  52.49219794,\n",
       "        48.50991863,  55.27967435,  39.92812258,  41.75630484,\n",
       "        43.18405375,  44.98606318,  42.83699027,  54.66512823,\n",
       "        33.41909845,  60.26710577])"
      ]
     },
     "execution_count": 13,
     "metadata": {},
     "output_type": "execute_result"
    }
   ],
   "source": [
    "# 데이터 확인 : y축에 해당하는 데이터\n",
    "data['d']"
   ]
  },
  {
   "cell_type": "code",
   "execution_count": 14,
   "metadata": {},
   "outputs": [
    {
     "data": {
      "text/plain": [
       "array([37, 30, 19,  6, 36, 26,  7, 13, 49, 14,  6, 32, 33,  3,  0, 40, 13,\n",
       "       30, 37, 49, 19,  2, 34, 45, 32, 14,  2, 27, 26, 46, 46, 32, 18, 32,\n",
       "       30,  3, 31, 41, 27, 15, 48, 42, 27, 14, 47, 21, 30, 20, 31,  6])"
      ]
     },
     "execution_count": 14,
     "metadata": {},
     "output_type": "execute_result"
    }
   ],
   "source": [
    "# 데이터 확인 : 마커 색상에 해당하는 데이터\n",
    "data['b']"
   ]
  },
  {
   "cell_type": "code",
   "execution_count": 15,
   "metadata": {},
   "outputs": [
    {
     "data": {
      "text/plain": [
       "array([1.06697768e+02, 1.85434502e+01, 1.79840146e+02, 7.61549301e+01,\n",
       "       4.43400497e+00, 2.83580785e+01, 1.28382074e+02, 1.68250184e+02,\n",
       "       5.98918774e+01, 1.48271932e+02, 9.73747447e+00, 1.27205836e+02,\n",
       "       2.14583850e+02, 1.64366885e+02, 8.18807675e+01, 1.56373377e+02,\n",
       "       4.48068374e+01, 9.98950824e+01, 3.12709125e+00, 6.17126593e+01,\n",
       "       2.56166709e+01, 3.32160601e+01, 8.83159851e+01, 7.89621160e+01,\n",
       "       4.85899587e+01, 1.06673022e+02, 3.76678757e+01, 1.85882079e+02,\n",
       "       5.96751207e+01, 1.90352074e+01, 1.96817910e+01, 2.05499678e+01,\n",
       "       3.10500011e+01, 1.75359391e+02, 1.26132137e+01, 7.97641520e+01,\n",
       "       1.41367860e+02, 1.06939893e+02, 1.27516664e+02, 1.34921979e+02,\n",
       "       8.50991863e+01, 1.42796743e+02, 2.07187742e+01, 1.24369516e+01,\n",
       "       8.15946254e+00, 1.39368208e-01, 3.16300973e+01, 7.66512823e+01,\n",
       "       1.45809015e+02, 1.12671058e+02])"
      ]
     },
     "execution_count": 15,
     "metadata": {},
     "output_type": "execute_result"
    }
   ],
   "source": [
    "# 데이터 확인 : 마커 사이즈에 대한 데이터\n",
    "data['s']"
   ]
  },
  {
   "cell_type": "code",
   "execution_count": 16,
   "metadata": {},
   "outputs": [
    {
     "data": {
      "image/png": "[encoded data removed]",
      "text/plain": [
       "<Figure size 432x288 with 1 Axes>"
      ]
     },
     "metadata": {
      "needs_background": "light"
     },
     "output_type": "display_data"
    }
   ],
   "source": [
    "# data 파라미터를 통해 전달한 객체(딕셔너리)에서\n",
    "# x, y, s, c 파라미터에 해당하는 값에 사용하려는 키를 문자열로 전달\n",
    "# plt.scatter('x', 'y', s='s', c='c', data=dict)\n",
    "plt.scatter('a', 'd', s='s', c='b', data=data)\n",
    "plt.show()"
   ]
  },
  {
   "cell_type": "markdown",
   "metadata": {},
   "source": [
    "### Bar chart (막대 그래프)\n",
    "\n",
    "- 여러 값의 상대적인 크기를 비교하기에 적합한 표현법이며 원형 차트보다 더욱 일반적으로 사용됨\n",
    "- plt.bar(x, y)\n",
    "    - x 데이터가 카테고리 값인 경우에는 bar, barh 로 바 차트 시각화 표현\n",
    "    - 가로 방향으로 바 차트를 그리려면 barh \n",
    "    - barh 차트 주의점 : x축이 일반적으로 y축의 위치를 의미"
   ]
  },
  {
   "cell_type": "code",
   "execution_count": 18,
   "metadata": {},
   "outputs": [],
   "source": [
    "# plot에서 한글 폰트 설정(안 하면 한글이 깨져서 나옴)\n",
    "font_name=matplotlib.font_manager.FontProperties(\n",
    "    fname='C:/Windows/Fonts/malgun.ttf').get_name()\n",
    "matplotlib.rc('font', family = font_name)"
   ]
  },
  {
   "cell_type": "code",
   "execution_count": 19,
   "metadata": {},
   "outputs": [
    {
     "data": {
      "text/plain": [
       "<BarContainer object of 3 artists>"
      ]
     },
     "execution_count": 19,
     "metadata": {},
     "output_type": "execute_result"
    },
    {
     "data": {
      "image/png": "[encoded data removed]",
      "text/plain": [
       "<Figure size 432x288 with 1 Axes>"
      ]
     },
     "metadata": {
      "needs_background": "light"
     },
     "output_type": "display_data"
    }
   ],
   "source": [
    "# 범주형 데이터(문자 등)에 대한 bar graph 기본\n",
    "x = ['가', '나', '다']\n",
    "y = [2, 10, 5]\n",
    "plt.bar(x, y)"
   ]
  },
  {
   "cell_type": "code",
   "execution_count": 20,
   "metadata": {},
   "outputs": [
    {
     "data": {
      "image/png": "[encoded data removed]",
      "text/plain": [
       "<Figure size 432x288 with 1 Axes>"
      ]
     },
     "metadata": {
      "needs_background": "light"
     },
     "output_type": "display_data"
    }
   ],
   "source": [
    "# 제목, xlabel, ylabel\n",
    "# 바마다 붙일 이름을 바꿔주고 싶다면 xticks를 쓴다.\n",
    "plt.bar(x, y)\n",
    "plt.title('bar chart')\n",
    "plt.xlabel('x축')\n",
    "plt.ylabel('y축')\n",
    "plt.xticks(x, ['김', '이', '박'])\n",
    "plt.show()"
   ]
  },
  {
   "cell_type": "code",
   "execution_count": 21,
   "metadata": {},
   "outputs": [
    {
     "data": {
      "image/png": "[encoded data removed]",
      "text/plain": [
       "<Figure size 432x288 with 1 Axes>"
      ]
     },
     "metadata": {
      "needs_background": "light"
     },
     "output_type": "display_data"
    }
   ],
   "source": [
    "# 각각의 bar마다 색상 변경\n",
    "# plt.bar() 객체 set_color()\n",
    "bar_list = plt.bar(x, y)\n",
    "bar_list[0].set_color('r')\n",
    "bar_list[1].set_color('g')\n",
    "plt.title('bar chart')\n",
    "plt.xticks(x, ['김', '이', '박'])\n",
    "plt.xlabel('x축')\n",
    "plt.ylabel('y축')\n",
    "plt.show()"
   ]
  },
  {
   "cell_type": "markdown",
   "metadata": {},
   "source": [
    "#### 가로형 막대그래프\n",
    "\n",
    "- plt.barh(y, x)"
   ]
  },
  {
   "cell_type": "code",
   "execution_count": 22,
   "metadata": {},
   "outputs": [
    {
     "data": {
      "image/png": "[encoded data removed]",
      "text/plain": [
       "<Figure size 432x288 with 1 Axes>"
      ]
     },
     "metadata": {
      "needs_background": "light"
     },
     "output_type": "display_data"
    }
   ],
   "source": [
    "bar_list = plt.barh(x, y)\n",
    "bar_list[0].set_color('r')\n",
    "bar_list[1].set_color('g')\n",
    "plt.title('bar chart')\n",
    "plt.xlabel('x축')\n",
    "plt.ylabel('y축')\n",
    "plt.show()"
   ]
  },
  {
   "cell_type": "markdown",
   "metadata": {},
   "source": [
    "### Pie chart\n",
    "\n",
    "- 전체 데이터에서 각 부분이 차지하는 비율을 시각적으로 이해하기 쉽게 표현\n",
    "- plt.pie(ratio, labels=, colors=, autopct=, shadow=T/F)\n",
    "    - ratio : 각 라벨의 비율\n",
    "    - label : 데이터의 카테고리명\n",
    "    - color : 라벨별 색상\n",
    "    - autopct : 비율 출력 포맷\n",
    "    - shadow : 음영 지정"
   ]
  },
  {
   "cell_type": "code",
   "execution_count": 23,
   "metadata": {},
   "outputs": [
    {
     "data": {
      "image/png": "[encoded data removed]",
      "text/plain": [
       "<Figure size 432x288 with 1 Axes>"
      ]
     },
     "metadata": {},
     "output_type": "display_data"
    }
   ],
   "source": [
    "# 라벨 : 소고기, 돼지고기, 닭고기, 오리고기\n",
    "# 값 : 20, 35, 24, 13\n",
    "# 색상 : yellowgreen, gold, lightskyblue, lightcoral\n",
    "plt.pie([15, 30, 45, 10], labels=['소고기', '돼지고기', '닭고기', '오리고기'],\n",
    "       colors=['yellowgreen', 'gold', 'lightskyblue', 'lightcoral'],\n",
    "       autopct='%0.1f%%', shadow=True)\n",
    "plt.axis('equal') # 원의 형태 설정\n",
    "plt.show()"
   ]
  },
  {
   "cell_type": "markdown",
   "metadata": {},
   "source": [
    "### histogram(히스토그램)\n",
    "\n",
    "- 데이터 분포의 특징, 이상치 여부를 확인하는데 용이\n",
    "    - 데이터의 분포 \n",
    "        - 데이터 값의 전반적으로 퍼져있는 형태\n",
    "        - 데이터의 수가 많을 때 데이터를 파악하기 위해 어떤 값 근처에 어떤 모양으로 모여 있는지 이해하기 쉬움\n",
    "- 데이터에 이상치가 존재하는 경우 비정상적인 히스토그램이 생성되며 이상치를 제거해주는 작업이 필요\n",
    "    - 예) 전반적인 데이터 분포가 0 ~ 1 사이에 있는데 한 개의 데이터가 100인 경우 정상적인 히스토그램이 그려지지 않음.\n",
    "\n",
    "- 히스토그램\n",
    "    - 자료 값이 가질 수 있는 범위를 몇 개의 구간으로 나누고 각 구간에 해당하는 값의 숫자 혹은 상대적 빈도를 계산하여 시각화\n",
    "    - plt.hist(data, bins)\n",
    "        - 일반적인 경우 히스토그램의 구간을 나눌 때 동일한 간격으로 나누기 때문에 구간(bins)의 개수가 중요\n",
    "        - bins\n",
    "            - 히스토그램 구간 수를 나타내는 값\n",
    "            - 구간 수가 너무 작으면(=간격이 너무 넓으면) 세부 분포 파악이 어렵고, 구간 수가 너무 많으면 전체적인 분포 파악이 어려움"
   ]
  },
  {
   "cell_type": "code",
   "execution_count": 29,
   "metadata": {},
   "outputs": [
    {
     "data": {
      "image/png": "[encoded data removed]",
      "text/plain": [
       "<Figure size 432x288 with 1 Axes>"
      ]
     },
     "metadata": {
      "needs_background": "light"
     },
     "output_type": "display_data"
    }
   ],
   "source": [
    "# 정규분포에서 무작위로 1000개 데이터 추출\n",
    "np.random.seed(200)\n",
    "x = np.random.randn(1000)\n",
    "plt.hist(x, bins=20) # None vs 300 vs 100 vs 50\n",
    "plt.show()"
   ]
  },
  {
   "cell_type": "markdown",
   "metadata": {},
   "source": [
    "### Box-plot\n",
    "- box-and-whisker plot\n",
    "- 최댓값, 최솟값, 사분위수(Q1, Q2, Q3)를 사용하여 자료의 측정값들의 분포와 극단값에 대해 파악\n",
    "    - IQR(Inter Quartile Range) : Q3 - Q1\n",
    "    - 최대값 : Q1 + 1.5 x IQR 범위 안에 있는 최대값\n",
    "    - 최소값 : Q3 - 1.5 x IQR 범위 안에 있는 최대값\n",
    "    - 박스(Box) : Q1 ~ Q3의 값\n",
    "    - n개의 데이터가 있을 때 사분위수\n",
    "        - 중앙값(Q2) : (n + 1) / 2\n",
    "        - 사분위수\n",
    "            - 집한 자료를 크기순으로 나열하여 사등분하는 척도\n",
    "            - (Q2 + 1) / 2를 기준으로 작은 쪽에서 해당 위치에 있는 수를 아래사분위수(Q1), 큰 쪽에 위치한 수를 위사분위수(Q2=n+1-값)\n",
    "            - 데이터 개수가 홀수일 때는 앞뒤 값의 평균을 사용\n",
    "- 두 개 이상의 자료 집단을 비교할 때 유용\n",
    "- 해당 범위에 벗어나는 값은 이상치로 판정하여 표기"
   ]
  },
  {
   "cell_type": "code",
   "execution_count": 30,
   "metadata": {},
   "outputs": [
    {
     "data": {
      "text/plain": [
       "array([7.75330345e+01, 8.93003294e+01, 9.43073232e+01, 1.09424494e+02,\n",
       "       4.97930634e+01, 7.25552358e+01, 5.96694776e+01, 9.59807926e+01,\n",
       "       3.83882676e+01, 7.70076784e+01, 6.09684991e+01, 1.01465147e+02,\n",
       "       5.65943904e+01, 9.66730120e+01, 8.67311924e+01, 7.41012952e+01,\n",
       "       1.00260357e+02, 8.82703005e+01, 6.35243585e+01, 6.66932368e+01,\n",
       "       6.51234722e+01, 9.65369675e+01, 8.72633234e+01, 9.23567049e+01,\n",
       "       5.37785414e+01, 3.97282170e+01, 9.08982331e+01, 7.99124184e+01,\n",
       "       9.38465794e+01, 1.12683809e+02, 7.94793089e+01, 6.96675080e+01,\n",
       "       8.25750007e+01, 1.07278122e+02, 9.00619655e+01, 8.99278836e+01,\n",
       "       6.43675418e+01, 8.86081847e+01, 1.10940788e+02, 5.26306358e+01,\n",
       "       5.36806181e+01, 2.87402199e+01, 8.96677952e+01, 6.56380978e+01,\n",
       "       5.49074157e+01, 6.40384547e+01, 6.84532089e+01, 7.87333233e+01,\n",
       "       1.14850773e+02, 4.98195421e+01, 8.39992548e+01, 5.45183167e+01,\n",
       "       7.15603794e+01, 1.28607568e+02, 1.93564259e+01, 3.91710872e+01,\n",
       "       5.57383293e+01, 7.97725051e+01, 5.42921483e+01, 9.83032932e+01,\n",
       "       7.87758068e+01, 8.44701332e+01, 9.08016584e+01, 9.64131170e+01,\n",
       "       5.08829767e+01, 1.31039891e+02, 4.49368567e+01, 4.59064107e+01,\n",
       "       7.70351930e+01, 3.94425216e+01, 7.16537511e+01, 9.38696815e+01,\n",
       "       6.02525517e-02, 1.07297206e+02, 7.00450925e+01, 7.09964285e+01,\n",
       "       9.82784911e+01, 7.93101444e+01, 1.00250470e+02, 1.29021678e+02,\n",
       "       4.64020166e+01, 1.04400552e+02, 1.05041449e+02, 8.71506099e+01,\n",
       "       6.74272137e+01, 5.56009711e+01, 8.16925593e+01, 7.89346263e+01,\n",
       "       5.46252867e+01, 4.20560145e+01, 5.92440594e+01, 8.32212476e+01,\n",
       "       5.56772958e+01, 1.13950475e+02, 3.68688535e+01, 3.89286768e+01,\n",
       "       3.72210935e+01, 8.23453914e+01, 9.19443782e+01, 6.90847611e+01,\n",
       "       5.95385873e+01, 5.69100945e+01, 8.64935695e+01, 6.27728413e+01,\n",
       "       5.25981986e+01, 8.18628138e+01, 5.74170388e+01, 6.83364777e+01,\n",
       "       3.58685713e+01, 7.54174030e+01, 7.27884650e+01, 5.75413395e+01,\n",
       "       5.39370550e+01, 4.29374151e+01, 4.77292274e+01, 8.24385053e+01,\n",
       "       8.50885710e+01, 9.01795841e+01, 6.25362193e+01, 6.99772093e+01,\n",
       "       4.26123706e+01, 8.04140772e+01, 4.32107652e+01, 9.20813035e+01,\n",
       "       8.52826956e+01, 4.90426697e+01, 1.03038684e+02, 8.88736224e+01,\n",
       "       8.15856560e+01, 6.59182107e+01, 4.81475193e+01, 6.96036748e+01,\n",
       "       9.45790369e+01, 1.04631589e+02, 6.23117836e+01, 6.44936006e+01,\n",
       "       7.14146777e+01, 8.69819615e+01, 7.94306895e+01, 2.85560699e+01,\n",
       "       5.78393451e+01, 4.67107315e+01, 1.06460720e+02, 6.82354167e+01,\n",
       "       8.59275242e+01, 7.66294421e+01, 5.35965857e+01, 8.10758264e+01,\n",
       "       2.68785836e+01, 8.27940902e+01, 7.43357938e+01, 7.36471813e+01,\n",
       "       1.11842203e+02, 5.62239148e+01, 1.21849249e+02, 6.46616931e+01,\n",
       "       9.15609134e+01, 1.95731225e+01, 6.70007384e+01, 8.95173677e+01,\n",
       "       8.37486799e+01, 8.01684323e+01, 1.33960293e+02, 5.03998297e+01,\n",
       "       7.79227547e+01, 7.07739924e+01, 6.62316179e+01, 7.89923836e+01,\n",
       "       1.21783298e+02, 9.75049151e+01, 9.47700203e+01, 7.03611274e+01,\n",
       "       9.09423878e+01, 7.94521303e+01, 6.33447855e+01, 1.06675146e+02,\n",
       "       8.72188384e+01, 8.47217172e+01, 6.96947837e+01, 6.31834217e+01,\n",
       "       4.52584347e+01, 7.13683721e+01, 8.86538353e+01, 5.95251359e+01,\n",
       "       3.82066258e+01, 6.12186930e+01, 2.78433177e+01, 8.27317056e+01,\n",
       "       8.16038914e+01, 1.13470807e+02, 7.00980498e+01, 5.98270711e+01,\n",
       "       1.04756559e+02, 4.75269797e+01, 8.25129280e+01, 9.64134906e+01,\n",
       "       6.28810717e+01, 5.96570441e+01, 8.55448321e+01, 1.43523213e+02])"
      ]
     },
     "execution_count": 30,
     "metadata": {},
     "output_type": "execute_result"
    }
   ],
   "source": [
    "# 평균 70, 표준편차 25인 정규분포에서 200개의 표본 추출\n",
    "data = np.random.normal(70, 25, 200)\n",
    "data"
   ]
  },
  {
   "cell_type": "code",
   "execution_count": 39,
   "metadata": {},
   "outputs": [
    {
     "data": {
      "text/plain": [
       "(array([ 1.,  6., 12., 31., 45., 43., 38., 16.,  5.,  3.]),\n",
       " array([6.02525517e-02, 1.44065486e+01, 2.87528446e+01, 4.30991406e+01,\n",
       "        5.74454366e+01, 7.17917326e+01, 8.61380286e+01, 1.00484325e+02,\n",
       "        1.14830621e+02, 1.29176917e+02, 1.43523213e+02]),\n",
       " <a list of 10 Patch objects>)"
      ]
     },
     "execution_count": 39,
     "metadata": {},
     "output_type": "execute_result"
    },
    {
     "data": {
      "image/png": "[encoded data removed]",
      "text/plain": [
       "<Figure size 432x288 with 1 Axes>"
      ]
     },
     "metadata": {
      "needs_background": "light"
     },
     "output_type": "display_data"
    }
   ],
   "source": [
    "plt.hist(data)"
   ]
  },
  {
   "cell_type": "code",
   "execution_count": 40,
   "metadata": {},
   "outputs": [
    {
     "data": {
      "image/png": "[encoded data removed]",
      "text/plain": [
       "<Figure size 432x288 with 1 Axes>"
      ]
     },
     "metadata": {
      "needs_background": "light"
     },
     "output_type": "display_data"
    }
   ],
   "source": [
    "plt.boxplot(data)\n",
    "plt.show()"
   ]
  }
 ],
 "metadata": {
  "kernelspec": {
   "display_name": "Python 3",
   "language": "python",
   "name": "python3"
  },
  "language_info": {
   "codemirror_mode": {
    "name": "ipython",
    "version": 3
   },
   "file_extension": ".py",
   "mimetype": "text/x-python",
   "name": "python",
   "nbconvert_exporter": "python",
   "pygments_lexer": "ipython3",
   "version": "3.7.4"
  }
 },
 "nbformat": 4,
 "nbformat_minor": 2
}
